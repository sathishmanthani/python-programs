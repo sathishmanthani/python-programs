{
  "nbformat": 4,
  "nbformat_minor": 0,
  "metadata": {
    "colab": {
      "provenance": [],
      "authorship_tag": "ABX9TyNuaOUNpSIB0TsGm6rSTbF7",
      "include_colab_link": true
    },
    "kernelspec": {
      "name": "python3",
      "display_name": "Python 3"
    },
    "language_info": {
      "name": "python"
    }
  },
  "cells": [
    {
      "cell_type": "markdown",
      "metadata": {
        "id": "view-in-github",
        "colab_type": "text"
      },
      "source": [
        "<a href=\"https://colab.research.google.com/github/sathishmanthani/python-programs/blob/master/Python_Programs.ipynb\" target=\"_parent\"><img src=\"https://colab.research.google.com/assets/colab-badge.svg\" alt=\"Open In Colab\"/></a>"
      ]
    },
    {
      "cell_type": "code",
      "execution_count": null,
      "metadata": {
        "colab": {
          "base_uri": "https://localhost:8080/"
        },
        "id": "wKvVOfkK5d3f",
        "outputId": "08fe049b-d20c-483c-a25d-a0d2400bc1e8"
      },
      "outputs": [
        {
          "output_type": "stream",
          "name": "stdout",
          "text": [
            "[0, 1, 1, 2, 3, 5, 8, 13, 21, 34]\n"
          ]
        }
      ],
      "source": [
        "#Fibbonacci series\n",
        "\n",
        "def fib(n):\n",
        "  #initialize\n",
        "  x = [0,1]\n",
        "  for i in range(n-2):\n",
        "    #append the sum of last two digits as a new num\n",
        "    x.append(x[-1]+x[-2])\n",
        "  return x\n",
        "\n",
        "print(fib(10))\n"
      ]
    },
    {
      "cell_type": "code",
      "source": [
        "#Caesar’s Cipher Encryption\n",
        "#Caesar’s cipher is based on the idea of shifting characters to be encrypted by a fixed number of positions\n",
        "#For example ROT1 encryption shifhts each alphabet by 1 character. i.e. a becomes b and b becomes c, etc.,\n",
        "\n",
        "#ROT13 encryption\n",
        "def encrypt(s):\n",
        "  alpha = 'abcdefghijklmnopqrstuvwxyz'\n",
        "  new_str = ''\n",
        "  for chr in s:\n",
        "    #Get the index of each character in the alphabet and add 13 to it. Since we only got 26 alphabets, recycle the index\n",
        "    new_idx = (alpha.find(chr)+13)%26\n",
        "    new_str = new_str+alpha[new_idx]\n",
        "  return new_str\n",
        "\n",
        "print(encrypt('googlefacebook'))\n",
        "\n"
      ],
      "metadata": {
        "colab": {
          "base_uri": "https://localhost:8080/"
        },
        "id": "mh7iML3L5zfc",
        "outputId": "da92ece6-058e-4c48-f9d8-bc150d90f028"
      },
      "execution_count": null,
      "outputs": [
        {
          "output_type": "stream",
          "name": "stdout",
          "text": [
            "tbbtyrsnprobbx\n"
          ]
        }
      ]
    },
    {
      "cell_type": "code",
      "source": [
        "#Find s in mississipi\n",
        "\n",
        "def findchr(s,chr):\n",
        "  l1=[]\n",
        "  for idx, c in enumerate(s):\n",
        "    if c==chr:\n",
        "      l1.append(idx)\n",
        "  return l1\n",
        "\n",
        "print(findchr('mississipi','s'))\n"
      ],
      "metadata": {
        "colab": {
          "base_uri": "https://localhost:8080/"
        },
        "id": "H1RNnuqU71Xu",
        "outputId": "f15f93a6-c1ad-41e9-bfdd-bab0ce0de88a"
      },
      "execution_count": null,
      "outputs": [
        {
          "output_type": "stream",
          "name": "stdout",
          "text": [
            "[2, 3, 5, 6]\n"
          ]
        }
      ]
    },
    {
      "cell_type": "code",
      "source": [
        "#Prime Numbers using the Sieve of Eratosthenes\n",
        "\n",
        "def primeNums(n):\n",
        "  l1 = [True]*(n+1)\n",
        "  for i in range(2,int(n**0.5)+1):\n",
        "    for j in range(i*i,n+1,i):\n",
        "      l1[j]=False\n",
        "  return [idx for idx,val in enumerate(l1) if val and idx>2]\n",
        "\n",
        "print(primeNums(10))"
      ],
      "metadata": {
        "colab": {
          "base_uri": "https://localhost:8080/"
        },
        "id": "8yaz7fen8L5v",
        "outputId": "10d51754-feef-44f8-fd16-29b6b5050477"
      },
      "execution_count": null,
      "outputs": [
        {
          "output_type": "stream",
          "name": "stdout",
          "text": [
            "[3, 5, 7]\n"
          ]
        }
      ]
    },
    {
      "cell_type": "code",
      "source": [
        "#Total salaries of employees\n",
        "column_names = ['name', 'salary', 'job']\n",
        "db_rows = [('Alice', 180000, 'data scientist'),\n",
        "('Bob', 99000, 'mid-level manager'),\n",
        "('Frank', 87000, 'CEO')]\n",
        "\n",
        "total = 0\n",
        "cnt = 0\n",
        "for row in db_rows:\n",
        "  name, salary, job = row\n",
        "  total += salary\n",
        "\n",
        "print('Total salary',total)\n",
        "print('Avg salary',round(total/len(db_rows),2))\n",
        "\n",
        "\n",
        "#Second highest salaried employee name\n",
        "print(sorted(db_rows, key=lambda x:x[1],reverse=True)[2][0])\n",
        "\n"
      ],
      "metadata": {
        "colab": {
          "base_uri": "https://localhost:8080/"
        },
        "id": "FmbekENV9Hs7",
        "outputId": "82ff9cdb-8d90-4104-84df-709f50dd3639"
      },
      "execution_count": null,
      "outputs": [
        {
          "output_type": "stream",
          "name": "stdout",
          "text": [
            "Total salary 366000\n",
            "Avg salary 122000.0\n",
            "Frank\n"
          ]
        }
      ]
    },
    {
      "cell_type": "code",
      "source": [
        "# (name, $-income)\n",
        "customers = [(\"John\", 240000),\n",
        "(\"Alice\", 120000),\n",
        "(\"Ann\", 1100000),\n",
        "(\"Zach\", 44000)]\n",
        "\n",
        "# Get high-value customers earning >$1M\n",
        "for customer in customers:\n",
        "  name, income = customer\n",
        "  if income>1000000:\n",
        "    print(name)"
      ],
      "metadata": {
        "colab": {
          "base_uri": "https://localhost:8080/"
        },
        "id": "u2yHMx9E-v-G",
        "outputId": "dd1bae7a-df3e-4f39-84d4-72118b249a06"
      },
      "execution_count": null,
      "outputs": [
        {
          "output_type": "stream",
          "name": "stdout",
          "text": [
            "Ann\n"
          ]
        }
      ]
    },
    {
      "cell_type": "code",
      "source": [
        "#Easy: Find min and max num\n",
        "\n",
        "l = [1,20,3,399,-1]\n",
        "\n",
        "min, *l1 = l\n",
        "for i in l1:\n",
        "  if i<min:\n",
        "    min = i\n",
        "print(min)\n",
        "\n",
        "max, *l1 = l\n",
        "for i in l1:\n",
        "  if i>max:\n",
        "    max = i\n",
        "print(max)\n"
      ],
      "metadata": {
        "colab": {
          "base_uri": "https://localhost:8080/"
        },
        "id": "lwvVLAnR_GqO",
        "outputId": "eebedb31-3c4f-476f-afb9-c4a8b0697211"
      },
      "execution_count": null,
      "outputs": [
        {
          "output_type": "stream",
          "name": "stdout",
          "text": [
            "-1\n",
            "399\n"
          ]
        }
      ]
    },
    {
      "cell_type": "code",
      "source": [
        "#Get the words with more than 3 characters in them\n",
        "\n",
        "## Data\n",
        "text = '''\n",
        "Call me Ishmael. Some years ago - never mind how long precisely - having\n",
        "little or no money in my purse, and nothing particular to interest me\n",
        "on shore, I thought I would sail about a little and see the watery part\n",
        "of the world. It is a way I have of driving off the spleen, and regulating\n",
        "the circulation. - Moby Dick'''\n",
        "\n",
        "import re \n",
        "\n",
        "l1 = text.split(' ')\n",
        "l2 = [ word.replace('\\n','').replace(' ','').replace('.','') for word in l1]\n",
        "l3 = [ word for word in l2 if len(word)>3]\n",
        "print(l3)"
      ],
      "metadata": {
        "colab": {
          "base_uri": "https://localhost:8080/"
        },
        "id": "f_a8ANaQ_oah",
        "outputId": "e69f5511-698e-46d6-a36a-d2790c5e37c6"
      },
      "execution_count": null,
      "outputs": [
        {
          "output_type": "stream",
          "name": "stdout",
          "text": [
            "['Call', 'Ishmael', 'Some', 'years', 'never', 'mind', 'long', 'precisely', 'havinglittle', 'money', 'purse,', 'nothing', 'particular', 'interest', 'meon', 'shore,', 'thought', 'would', 'sail', 'about', 'little', 'watery', 'partof', 'world', 'have', 'driving', 'spleen,', 'regulatingthe', 'circulation', 'Moby', 'Dick']\n"
          ]
        }
      ]
    },
    {
      "cell_type": "code",
      "source": [
        "#Factorial\n",
        "\n",
        "def factorial(n):\n",
        "  if n==1:\n",
        "    return 1\n",
        "  else:\n",
        "    return n*factorial(n-1)\n",
        "\n",
        "print(factorial(3))"
      ],
      "metadata": {
        "colab": {
          "base_uri": "https://localhost:8080/"
        },
        "id": "HS5nzgRT2p2_",
        "outputId": "bb5580c7-937c-49d6-fc54-3c179ae9fece"
      },
      "execution_count": null,
      "outputs": [
        {
          "output_type": "stream",
          "name": "stdout",
          "text": [
            "6\n"
          ]
        }
      ]
    },
    {
      "cell_type": "code",
      "source": [
        "#Employee class\n",
        "\n",
        "class Employee():\n",
        "  def __init__(self,fname, lname, age, salary, joining_date,rating):\n",
        "    self.fname=fname\n",
        "    self.lname=lname\n",
        "    self.age=age\n",
        "    self.salary=salary\n",
        "    self.joining_date=joining_date\n",
        "    self.rating=rating\n",
        "\n",
        "  def raise_salary(self):\n",
        "    if self.rating==1:\n",
        "      self.salary=self.salary*1.1\n",
        "    return self.salary\n",
        "  \n",
        "emp1 = Employee('sat','mant',35,100,'2023-01-01',1)\n",
        "print(emp1.raise_salary())\n",
        "print(emp1.salary)\n"
      ],
      "metadata": {
        "colab": {
          "base_uri": "https://localhost:8080/"
        },
        "id": "A6LCqrpm-zop",
        "outputId": "48a71cfa-5df6-434b-f2f3-d990d20211df"
      },
      "execution_count": null,
      "outputs": [
        {
          "output_type": "stream",
          "name": "stdout",
          "text": [
            "110.00000000000001\n",
            "110.00000000000001\n"
          ]
        }
      ]
    },
    {
      "cell_type": "code",
      "source": [
        "#Uncommon words between sentenes\n",
        "s1 = 'I am a super star'\n",
        "s2 = 'I am a villian'\n",
        "\n",
        "def uncommonWords(s1,s2):\n",
        "  d1 = {}\n",
        "  combined = list(set(s1.split())) + list(set(s2.split()))\n",
        "  for word in combined:\n",
        "    if word in d1:\n",
        "      d1[word] +=1\n",
        "    else:\n",
        "      d1[word]=1\n",
        "  return ' '.join([k for k,v in d1.items() if v==1])\n",
        "\n",
        "print(uncommonWords(s1,s2))\n"
      ],
      "metadata": {
        "colab": {
          "base_uri": "https://localhost:8080/"
        },
        "id": "qclFKfL69hEw",
        "outputId": "dd425dd0-0dc3-49ff-aa45-277e2c75860b"
      },
      "execution_count": null,
      "outputs": [
        {
          "output_type": "stream",
          "name": "stdout",
          "text": [
            "star super villian\n"
          ]
        }
      ]
    },
    {
      "cell_type": "code",
      "source": [
        "#Prefill Nulls with last value\n",
        "l = [1,None,5,6,7,None,10]\n",
        "\n",
        "for idx, val in enumerate(l):\n",
        "  if val is None and idx>0:\n",
        "    l[idx]=l[idx-1]\n",
        "print(l)"
      ],
      "metadata": {
        "colab": {
          "base_uri": "https://localhost:8080/"
        },
        "id": "qXCFN0fk_zfz",
        "outputId": "f47870e5-1fc9-4fbb-96d6-332a61cb4f77"
      },
      "execution_count": null,
      "outputs": [
        {
          "output_type": "stream",
          "name": "stdout",
          "text": [
            "[1, 1, 5, 6, 7, 7, 10]\n"
          ]
        }
      ]
    },
    {
      "cell_type": "code",
      "source": [
        "#Total transaction amount and count of transactions of accounts\n",
        "\n",
        "accts = ['a1','a2','a3','a2','a1','a5']\n",
        "vals = [100,200,300,250,150,500]\n",
        "\n",
        "d1 = {}\n",
        "d2 = {}\n",
        "\n",
        "for idx,acct in enumerate(accts):\n",
        "  if acct in d1:\n",
        "    d1[acct] += vals[idx]\n",
        "    d2[acct] +=1\n",
        "  else:\n",
        "    d1[acct] = vals[idx]\n",
        "    d2[acct] =1\n",
        "\n",
        "d3={}\n",
        "for acct in d1:\n",
        "  d3[acct] = list((d1[acct],d2[acct]))\n",
        "\n",
        "print(d3)\n",
        "\n",
        "l3 = []\n",
        "\n",
        "for acct, item in d3.items():\n",
        "  d4 = {}\n",
        "  d4['account'],d4['transaction'],d4['count']=acct,item[0],item[1]\n",
        "  l3.append(d4)\n",
        "print(l3)\n",
        "\n",
        "l4 =[]\n",
        "for item in l3:\n",
        "  lx = []\n",
        "  for k,v in item.items():\n",
        "    lx.append(v)\n",
        "  l4.append(lx)\n",
        "\n",
        "print(l4)\n",
        "  \n"
      ],
      "metadata": {
        "colab": {
          "base_uri": "https://localhost:8080/"
        },
        "id": "9ZmQM25dAFMw",
        "outputId": "f4d0d14c-7040-4a93-b67b-47732696a727"
      },
      "execution_count": null,
      "outputs": [
        {
          "output_type": "stream",
          "name": "stdout",
          "text": [
            "{'a1': [250, 2], 'a2': [450, 2], 'a3': [300, 1], 'a5': [500, 1]}\n",
            "[{'account': 'a1', 'transaction': 250, 'count': 2}, {'account': 'a2', 'transaction': 450, 'count': 2}, {'account': 'a3', 'transaction': 300, 'count': 1}, {'account': 'a5', 'transaction': 500, 'count': 1}]\n",
            "[['a1', 250, 2], ['a2', 450, 2], ['a3', 300, 1], ['a5', 500, 1]]\n"
          ]
        }
      ]
    },
    {
      "cell_type": "code",
      "source": [
        "#sort dictionary descending order\n",
        "\n",
        "data = [{'employee':'sat','salary':100},{'employee':'mant','salary':90},{'employee':'zzzz','salary':300}]\n",
        "\n",
        "print(sorted(data, key=lambda x:x['salary'],reverse=True))\n",
        "\n",
        "print(list(map(lambda x:x['salary'],data)))\n",
        "\n",
        "print(list(filter(lambda x:x['salary']>100,data)))"
      ],
      "metadata": {
        "colab": {
          "base_uri": "https://localhost:8080/"
        },
        "id": "yaGKfNMSwiYo",
        "outputId": "d5ae4570-dbf6-400b-dde1-42e63c0d3913"
      },
      "execution_count": null,
      "outputs": [
        {
          "output_type": "stream",
          "name": "stdout",
          "text": [
            "[{'employee': 'zzzz', 'salary': 300}, {'employee': 'sat', 'salary': 100}, {'employee': 'mant', 'salary': 90}]\n",
            "[100, 90, 300]\n",
            "[{'employee': 'zzzz', 'salary': 300}]\n"
          ]
        }
      ]
    },
    {
      "cell_type": "code",
      "source": [
        "people = {3: \"Jim\", 2: \"Jack\", 4: \"Jane\", 1: \"Jill\"}\n",
        "\n",
        "print(sorted(people.items(),key=lambda x:x[0],reverse=True))"
      ],
      "metadata": {
        "colab": {
          "base_uri": "https://localhost:8080/"
        },
        "id": "a4MMp6D13asi",
        "outputId": "a05cfe4f-0cd5-49e9-bc25-3300cf073fe7"
      },
      "execution_count": null,
      "outputs": [
        {
          "output_type": "stream",
          "name": "stdout",
          "text": [
            "[(4, 'Jane'), (3, 'Jim'), (2, 'Jack'), (1, 'Jill')]\n"
          ]
        }
      ]
    },
    {
      "cell_type": "code",
      "source": [
        "a,*b=(1,2,3)\n",
        "print(a,b)"
      ],
      "metadata": {
        "colab": {
          "base_uri": "https://localhost:8080/"
        },
        "id": "1FqbAzqi3_vC",
        "outputId": "ba5832db-ee9e-4271-cb4b-1cf6ff81713a"
      },
      "execution_count": null,
      "outputs": [
        {
          "output_type": "stream",
          "name": "stdout",
          "text": [
            "1 [2, 3]\n"
          ]
        }
      ]
    },
    {
      "cell_type": "code",
      "source": [
        "# Find if string has all unique characters\n",
        "\n",
        "def isUnique(s):\n",
        "  d1 = {}\n",
        "  for i in s:\n",
        "    if i in d1:\n",
        "       return False\n",
        "    else:\n",
        "      d1[i]=1\n",
        "  return True\n",
        "\n",
        "print('abc is unique?',isUnique('abc'))\n",
        "\n",
        "print('abca is unique?',isUnique('abca'))\n"
      ],
      "metadata": {
        "colab": {
          "base_uri": "https://localhost:8080/"
        },
        "id": "an5btKVRtx57",
        "outputId": "36deb94c-2ff2-4ab8-b93e-8673f32ee1db"
      },
      "execution_count": 2,
      "outputs": [
        {
          "output_type": "stream",
          "name": "stdout",
          "text": [
            "abc is unique? True\n",
            "abca is unique? False\n"
          ]
        }
      ]
    }
  ]
}